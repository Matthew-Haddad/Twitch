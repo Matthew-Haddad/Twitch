{
 "cells": [
  {
   "cell_type": "code",
   "execution_count": 426,
   "id": "ecfe0e66-fb87-4cbf-ac45-fb638fac79a2",
   "metadata": {},
   "outputs": [],
   "source": [
    "import os\n",
    "import numpy as np\n",
    "import pandas as pd\n",
    "import torch\n",
    "import math\n",
    "import torch.nn as nn\n",
    "import torch.nn.functional as F\n",
    "import matplotlib.pyplot as plt\n",
    "import torch.optim as optim\n",
    "import torch.distributions as distributions\n",
    "from torch import optim\n",
    "from torch.utils.data import DataLoader\n",
    "from torchvision import datasets, transforms"
   ]
  },
  {
   "cell_type": "code",
   "execution_count": 427,
   "id": "b89b67f9-5e56-48be-93ae-ea7c1cf6495f",
   "metadata": {},
   "outputs": [
    {
     "name": "stdout",
     "output_type": "stream",
     "text": [
      "features:  ['attitude.roll', 'attitude.pitch', 'attitude.yaw', 'gravity.x', 'gravity.y', 'gravity.z', 'rotationRate.x', 'rotationRate.y', 'rotationRate.z', 'userAcceleration.x', 'userAcceleration.y', 'userAcceleration.z']\n",
      "array shape:  (2678, 13)\n",
      "clipped shape:  (2678, 12)\n",
      "tensor shape:  torch.Size([2678, 12])\n"
     ]
    }
   ],
   "source": [
    "# reading a single csv into a pytorch tensor\n",
    "df = pd.read_csv(\"motionSense/A_DeviceMotion_data/A_DeviceMotion_data/dws_1/sub_10.csv\")\n",
    "df.head()\n",
    "features = list(df.columns)[1:]\n",
    "print(\"features: \",features)\n",
    "array = df.to_numpy()\n",
    "print(\"array shape: \", array.shape)\n",
    "clipped = array[:,1:]\n",
    "print(\"clipped shape: \",clipped.shape)\n",
    "p = torch.tensor(clipped)\n",
    "print(\"tensor shape: \", p.shape)"
   ]
  },
  {
   "cell_type": "code",
   "execution_count": 428,
   "id": "43bb8282-8d47-439d-be75-1200dd0d6b3e",
   "metadata": {},
   "outputs": [
    {
     "name": "stdout",
     "output_type": "stream",
     "text": [
      "--> Start...\n",
      "--> Building Training and Test Datasets...\n",
      "----> Data subjects information is imported.\n",
      "--> Shape of Training Time-Series: (1082373, 19)\n",
      "--> Shape of Test Time-Series: (331419, 19)\n"
     ]
    }
   ],
   "source": [
    "def get_ds_infos():\n",
    "    ## 0:Code, 1:Weight, 2:Height, 3:Age, 4:Gender\n",
    "    dss = np.genfromtxt(\"motionSense/data_subjects_info.csv\",delimiter=',')\n",
    "    dss = dss[1:]\n",
    "    print(\"----> Data subjects information is imported.\")\n",
    "    return dss\n",
    "\n",
    "def create_time_series(num_features, num_act_labels, num_gen_labels, label_codes, trial_codes):\n",
    "    dataset_columns = num_features+num_act_labels+num_gen_labels\n",
    "    ds_list = get_ds_infos()\n",
    "    train_data = np.zeros((0,dataset_columns))\n",
    "    test_data = np.zeros((0,dataset_columns))\n",
    "    for i, sub_id in enumerate(ds_list[:,0]):\n",
    "        for j, act in enumerate(label_codes):\n",
    "            for trial in trial_codes[act]:\n",
    "                fname = 'motionSense/A_DeviceMotion_data/A_DeviceMotion_data/'+act+'_'+str(trial)+'/sub_'+str(int(sub_id))+'.csv'\n",
    "                raw_data = pd.read_csv(fname)\n",
    "                raw_data = raw_data.drop(['Unnamed: 0'], axis=1)\n",
    "                unlabel_data = raw_data.values\n",
    "                label_data = np.zeros((len(unlabel_data), dataset_columns))\n",
    "                label_data[:,:-(num_act_labels + num_gen_labels)] = unlabel_data\n",
    "                label_data[:,label_codes[act]] = 1\n",
    "                label_data[:,-(num_gen_labels)] = int(ds_list[i,4])\n",
    "                ## We consider long trials as training dataset and short trials as test dataset\n",
    "                if trial > 10:\n",
    "                    test_data = np.append(test_data, label_data, axis = 0)\n",
    "                else:    \n",
    "                    train_data = np.append(train_data, label_data, axis = 0)\n",
    "    return train_data , test_data\n",
    "\n",
    "print(\"--> Start...\")\n",
    "## Here we set parameter to build labeld time-series from dataset of \"(A)DeviceMotion_data\"\n",
    "num_features = 12 # attitude(roll, pitch, yaw); gravity(x, y, z); rotationRate(x, y, z); userAcceleration(x,y,z)\n",
    "num_act_labels = 6 # dws, ups, wlk, jog, sit, std\n",
    "num_gen_labels = 1 # 0/1(female/male)\n",
    "label_codes = {\"dws\":num_features, \"ups\":num_features+1, \"wlk\":num_features+2, \"jog\":num_features+3, \"sit\":num_features+4, \"std\":num_features+5}\n",
    "trial_codes = {\"dws\":[1,2,11], \"ups\":[3,4,12], \"wlk\":[7,8,15], \"jog\":[9,16], \"sit\":[5,13], \"std\":[6,14]}    \n",
    "## Calling 'create_time_series()' to build time-series\n",
    "print(\"--> Building Training and Test Datasets...\")\n",
    "train_ts, test_ts = create_time_series(num_features, num_act_labels, num_gen_labels, label_codes, trial_codes)\n",
    "print(\"--> Shape of Training Time-Series:\", train_ts.shape)\n",
    "print(\"--> Shape of Test Time-Series:\", test_ts.shape)"
   ]
  },
  {
   "cell_type": "code",
   "execution_count": 446,
   "id": "efc3e68d-88b0-4b6e-86d2-b15930507059",
   "metadata": {},
   "outputs": [],
   "source": [
    "def get_tensors(dataset, num_channels=12, num_frames=5, num_labels=6):\n",
    "    input_sz = num_frames*num_channels\n",
    "    x = torch.tensor(dataset[:,:num_channels]).float()\n",
    "    y = torch.tensor(dataset[:,num_channels:num_channels + num_labels]).float()\n",
    "    classes, data, labels, new_data = [], [], [], []\n",
    "    for i in range(6):\n",
    "        new_class = train_ts[np.where(train_ts[:,num_channels + i])]\n",
    "        classes.append(new_class)\n",
    "        data.append(classes[i][:,:num_channels])\n",
    "        labels.append(classes[i][:,num_channels + 1:])\n",
    "        # crop & reshape data\n",
    "        data[i] = data[i][:data[i].shape[0] - data[i].shape[0] % num_frames,:]\n",
    "        new_data.append(data[i].reshape(-1,input_sz).astype(float))\n",
    "        # optional: format as regression\n",
    "        new_data[i] = np.array([np.append(new_data[i][j],i) for j in range(len(new_data[i]))])\n",
    "    arr = np.array(np.concatenate(new_data, axis=0))\n",
    "    x = arr[:,:-1]\n",
    "    y = arr[:,-1:]\n",
    "    x = torch.tensor(x).float()\n",
    "    y = torch.tensor(y).float()\n",
    "    print(\"Shape of data: \", x.shape)\n",
    "    print(\"Shape of labels: \", y.shape)\n",
    "    return x, y"
   ]
  },
  {
   "cell_type": "code",
   "execution_count": 429,
   "id": "7cc2fc45-1697-407a-94fa-acea5c0e9da6",
   "metadata": {},
   "outputs": [
    {
     "name": "stdout",
     "output_type": "stream",
     "text": [
      "Shape of train data:  torch.Size([1082373, 12])\n",
      "Shape of train labels:  torch.Size([1082373, 6])\n",
      "labels 0:  tensor([1., 0., 0., 0., 0., 0.])\n"
     ]
    }
   ],
   "source": [
    "x = torch.tensor(train_ts[:,:12]).float()\n",
    "print(\"Shape of train data: \", x.shape)\n",
    "y = torch.tensor(train_ts[:,12:18]).float()\n",
    "print(\"Shape of train labels: \", y.shape)\n",
    "print(\"labels 0: \", y[0])"
   ]
  },
  {
   "cell_type": "code",
   "execution_count": 430,
   "id": "4167fdd4-75f0-40b1-86d3-bd4befdd3ed8",
   "metadata": {},
   "outputs": [
    {
     "name": "stdout",
     "output_type": "stream",
     "text": [
      "class  0  shape:  (110281, 19)\n",
      "class  1  shape:  (129276, 19)\n",
      "class  2  shape:  (279016, 19)\n",
      "class  3  shape:  (104327, 19)\n",
      "class  4  shape:  (234657, 19)\n",
      "class  5  shape:  (224816, 19)\n",
      "num classes:  (6,)\n",
      "num samples:  1082373\n"
     ]
    },
    {
     "name": "stderr",
     "output_type": "stream",
     "text": [
      "/Users/matthew/miniconda3/lib/python3.9/site-packages/numpy/core/fromnumeric.py:2009: VisibleDeprecationWarning: Creating an ndarray from ragged nested sequences (which is a list-or-tuple of lists-or-tuples-or ndarrays with different lengths or shapes) is deprecated. If you meant to do this, you must specify 'dtype=object' when creating the ndarray.\n",
      "  result = asarray(a).shape\n"
     ]
    }
   ],
   "source": [
    "classes = []\n",
    "total_samples = 0\n",
    "for i in range(6):\n",
    "    new_class = train_ts[np.where(train_ts[:,12 + i])]\n",
    "    print(\"class \", i, \" shape: \", new_class.shape)\n",
    "    classes.append(new_class)\n",
    "    total_samples += len(new_class)\n",
    "print(\"num classes: \", np.shape(classes))\n",
    "print(\"num samples: \", total_samples)"
   ]
  },
  {
   "cell_type": "code",
   "execution_count": 431,
   "id": "68dcb1dd-ec25-455f-9254-56ba610fe58b",
   "metadata": {},
   "outputs": [
    {
     "name": "stdout",
     "output_type": "stream",
     "text": [
      "(110281, 12)\n",
      "(129276, 12)\n",
      "(279016, 12)\n",
      "(104327, 12)\n",
      "(234657, 12)\n",
      "(224816, 12)\n"
     ]
    }
   ],
   "source": [
    "data = []\n",
    "labels = []\n",
    "for i in range(6):\n",
    "    data.append(classes[i][:,:12])\n",
    "    labels.append(classes[i][:,13:])\n",
    "    print(data[i].shape)"
   ]
  },
  {
   "cell_type": "code",
   "execution_count": 432,
   "id": "e7d187dd-b46c-4e9e-9d78-ae4e3731b166",
   "metadata": {},
   "outputs": [
    {
     "name": "stdout",
     "output_type": "stream",
     "text": [
      "class  0\n",
      "(110281, 12)\n",
      "(22056, 60)\n",
      "class  1\n",
      "(129276, 12)\n",
      "(25855, 60)\n",
      "class  2\n",
      "(279016, 12)\n",
      "(55803, 60)\n",
      "class  3\n",
      "(104327, 12)\n",
      "(20865, 60)\n",
      "class  4\n",
      "(234657, 12)\n",
      "(46931, 60)\n",
      "class  5\n",
      "(224816, 12)\n",
      "(44963, 60)\n"
     ]
    }
   ],
   "source": [
    "num_frames = 5\n",
    "input_sz = num_frames*12\n",
    "new_data = []\n",
    "for i in range(6):\n",
    "    print(\"class \", i)\n",
    "    print(data[i].shape)\n",
    "    data[i] = data[i][:data[i].shape[0] - data[i].shape[0] % num_frames,:]\n",
    "    new_data.append(data[i].reshape(-1,input_sz).astype(float))\n",
    "    print(new_data[i].shape)"
   ]
  },
  {
   "cell_type": "code",
   "execution_count": 433,
   "id": "4bea1006-ee95-4bf1-99dc-8614bf7bd392",
   "metadata": {},
   "outputs": [
    {
     "name": "stdout",
     "output_type": "stream",
     "text": [
      "22056\n",
      "(22056, 61)\n",
      "25855\n",
      "(25855, 61)\n",
      "55803\n",
      "(55803, 61)\n",
      "20865\n",
      "(20865, 61)\n",
      "46931\n",
      "(46931, 61)\n",
      "44963\n",
      "(44963, 61)\n"
     ]
    }
   ],
   "source": [
    "# format as regression problem\n",
    "for i in range(6):\n",
    "    print(len(new_data[i]))\n",
    "    new_data[i] = np.array([np.append(new_data[i][j],i) for j in range(len(new_data[i]))])\n",
    "    print(new_data[i].shape)"
   ]
  },
  {
   "cell_type": "code",
   "execution_count": 434,
   "id": "e2003aff-b184-4e2e-8e6d-9ba4abaf1211",
   "metadata": {},
   "outputs": [
    {
     "name": "stdout",
     "output_type": "stream",
     "text": [
      "(216473, 61)\n",
      "(216473, 60)\n",
      "(216473, 1)\n"
     ]
    }
   ],
   "source": [
    "arr = np.array(np.concatenate(new_data, axis=0))\n",
    "print(arr.shape)\n",
    "x = arr[:,:-1]\n",
    "y = arr[:,-1:]\n",
    "print(x.shape)\n",
    "print(y.shape)"
   ]
  },
  {
   "cell_type": "code",
   "execution_count": 435,
   "id": "f90a1e43-5d33-4e20-8d37-3bab57eb5093",
   "metadata": {},
   "outputs": [],
   "source": [
    "class Net(nn.Module):\n",
    "    def __init__(self, input_size, output_size):\n",
    "        super(Net, self).__init__()\n",
    "        self.norm = nn.BatchNorm1d(input_size)\n",
    "        self.fc1 = nn.Linear(input_size, 32)\n",
    "        self.fc2 = nn.Linear(32, 32)\n",
    "        self.fc3 = nn.Linear(32, output_size)\n",
    "\n",
    "    def forward(self, x):\n",
    "        x = self.norm(x)\n",
    "        x = F.relu(self.fc1(x))\n",
    "        x = F.relu(self.fc2(x))\n",
    "        x = self.fc3(x)\n",
    "        return x"
   ]
  },
  {
   "cell_type": "code",
   "execution_count": 436,
   "id": "760fc48e-1889-4776-b37d-a5f4cb4299e8",
   "metadata": {},
   "outputs": [
    {
     "data": {
      "text/plain": [
       "'\\nclass Net(nn.Module):\\n    def __init__(self, input_size, output_size):\\n        super(Net, self).__init__()\\n        self.conv1 = nn.Conv1d(input_size, 32, 3, 1)\\n        self.conv2 = nn.Conv2d(32, 64, 3, 1)\\n        self.dropout1 = nn.Dropout(0.25)\\n        self.dropout2 = nn.Dropout(0.5)\\n        self.fc1 = nn.Linear(9216, 128)\\n        self.fc2 = nn.Linear(128, output_size)\\n\\n    def forward(self, x):\\n        x = self.conv1(x)\\n        x = F.relu(x)\\n        x = self.conv2(x)\\n        x = F.relu(x)\\n        x = F.max_pool2d(x, 2)\\n        x = self.dropout1(x)\\n        x = torch.flatten(x, 1)\\n        x = self.fc1(x)\\n        x = F.relu(x)\\n        x = self.dropout2(x)\\n        x = self.fc2(x)\\n        output = F.log_softmax(x, dim=1)\\n        return output\\n'"
      ]
     },
     "execution_count": 436,
     "metadata": {},
     "output_type": "execute_result"
    }
   ],
   "source": [
    "\"\"\"\n",
    "class Net(nn.Module):\n",
    "    def __init__(self, input_size, output_size):\n",
    "        super(Net, self).__init__()\n",
    "        self.conv1 = nn.Conv1d(input_size, 32, 3, 1)\n",
    "        self.conv2 = nn.Conv2d(32, 64, 3, 1)\n",
    "        self.dropout1 = nn.Dropout(0.25)\n",
    "        self.dropout2 = nn.Dropout(0.5)\n",
    "        self.fc1 = nn.Linear(9216, 128)\n",
    "        self.fc2 = nn.Linear(128, output_size)\n",
    "\n",
    "    def forward(self, x):\n",
    "        x = self.conv1(x)\n",
    "        x = F.relu(x)\n",
    "        x = self.conv2(x)\n",
    "        x = F.relu(x)\n",
    "        x = F.max_pool2d(x, 2)\n",
    "        x = self.dropout1(x)\n",
    "        x = torch.flatten(x, 1)\n",
    "        x = self.fc1(x)\n",
    "        x = F.relu(x)\n",
    "        x = self.dropout2(x)\n",
    "        x = self.fc2(x)\n",
    "        output = F.log_softmax(x, dim=1)\n",
    "        return output\n",
    "\"\"\""
   ]
  },
  {
   "cell_type": "code",
   "execution_count": 437,
   "id": "98f90a14-1dce-4048-b3f0-5615d7987336",
   "metadata": {},
   "outputs": [
    {
     "name": "stdout",
     "output_type": "stream",
     "text": [
      "Net(\n",
      "  (norm): BatchNorm1d(60, eps=1e-05, momentum=0.1, affine=True, track_running_stats=True)\n",
      "  (fc1): Linear(in_features=60, out_features=32, bias=True)\n",
      "  (fc2): Linear(in_features=32, out_features=32, bias=True)\n",
      "  (fc3): Linear(in_features=32, out_features=1, bias=True)\n",
      ")\n"
     ]
    }
   ],
   "source": [
    "# 5 step input, 12 values. 6 class labels\n",
    "output_sz = 1\n",
    "net = Net(input_size=input_sz, output_size=output_sz)\n",
    "print(net)"
   ]
  },
  {
   "cell_type": "code",
   "execution_count": 438,
   "id": "37a836c2-1e7c-4b19-a594-84031fd66aa9",
   "metadata": {},
   "outputs": [
    {
     "name": "stdout",
     "output_type": "stream",
     "text": [
      "Using device: cpu\n"
     ]
    }
   ],
   "source": [
    "device = torch.device(\"cuda\" if torch.cuda.is_available() else \"cpu\")\n",
    "print(\"Using device:\", device)\n",
    "net = net.to(device)\n",
    "\n",
    "optimizer = optim.Adam(net.parameters(), lr=1e-3)\n",
    "loss_fn = nn.MSELoss()\n",
    "losses = []"
   ]
  },
  {
   "cell_type": "code",
   "execution_count": 439,
   "id": "28b60e8b-542a-4256-8c00-b18eaf00f46b",
   "metadata": {},
   "outputs": [],
   "source": [
    "y_target = torch.tensor(y).float()\n",
    "x = torch.tensor(x).float()\n",
    "y_target = y_target.to(device)"
   ]
  },
  {
   "cell_type": "code",
   "execution_count": 440,
   "id": "06f7d42c-69f6-4b0e-b8ff-611e8b816f67",
   "metadata": {},
   "outputs": [],
   "source": [
    "def plot(xs, ys, xlim=(-3, 3), ylim=(-1, 12)):\n",
    "  fig, ax = plt.subplots()\n",
    "  ax.plot(xs, ys, linewidth=5)\n",
    "  # ax.set_aspect('equal')\n",
    "  ax.grid(True, which='both')\n",
    "  \n",
    "  ax.axhline(y=0, color='k')\n",
    "  ax.axvline(x=0, color='k')\n",
    "  ax.set_xlim(*xlim)\n",
    "  ax.set_ylim(*ylim)"
   ]
  },
  {
   "cell_type": "code",
   "execution_count": 441,
   "id": "11f8b3af-a826-4d61-a061-eadf2d5838b5",
   "metadata": {},
   "outputs": [
    {
     "name": "stdout",
     "output_type": "stream",
     "text": [
      "Final loss:  1.51152\n"
     ]
    },
    {
     "data": {
      "image/png": "[encoded data removed]",
      "text/plain": [
       "<Figure size 640x480 with 1 Axes>"
      ]
     },
     "metadata": {},
     "output_type": "display_data"
    }
   ],
   "source": [
    "for _ in range(300):\n",
    "    x = x.to(device)\n",
    "    y = net(x)\n",
    "    loss = loss_fn(y, y_target)\n",
    "    losses.append(loss.detach().cpu().numpy())\n",
    "\n",
    "    optimizer.zero_grad()\n",
    "    loss.backward()\n",
    "    optimizer.step()\n",
    "\n",
    "print(\"Final loss: \", losses[-1])\n",
    "plot(range(300), losses, xlim=(0, 300))"
   ]
  },
  {
   "cell_type": "code",
   "execution_count": 444,
   "id": "7b3ca41d-ae4d-418a-ab82-fed3da281c52",
   "metadata": {},
   "outputs": [
    {
     "name": "stdout",
     "output_type": "stream",
     "text": [
      "Shape of test data:  torch.Size([331419, 12])\n",
      "Shape of test labels:  torch.Size([331419, 6])\n",
      "labels 0:  tensor([1., 0., 0., 0., 0., 0.])\n"
     ]
    }
   ],
   "source": [
    "# validation\n",
    "x = torch.tensor(test_ts[:,:12]).float()\n",
    "print(\"Shape of test data: \", x.shape)\n",
    "y = torch.tensor(test_ts[:,12:18]).float()\n",
    "print(\"Shape of test labels: \", y.shape)\n",
    "print(\"labels 0: \", y[0])"
   ]
  },
  {
   "cell_type": "code",
   "execution_count": null,
   "id": "daba6a71-d0b1-40f4-9658-7930a02a2f92",
   "metadata": {},
   "outputs": [],
   "source": []
  }
 ],
 "metadata": {
  "kernelspec": {
   "display_name": "Python 3 (ipykernel)",
   "language": "python",
   "name": "python3"
  },
  "language_info": {
   "codemirror_mode": {
    "name": "ipython",
    "version": 3
   },
   "file_extension": ".py",
   "mimetype": "text/x-python",
   "name": "python",
   "nbconvert_exporter": "python",
   "pygments_lexer": "ipython3",
   "version": "3.9.12"
  }
 },
 "nbformat": 4,
 "nbformat_minor": 5
}
